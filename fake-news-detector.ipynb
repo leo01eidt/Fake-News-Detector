{
 "cells": [
  {
   "cell_type": "code",
   "execution_count": 4,
   "metadata": {},
   "outputs": [],
   "source": [
    "import numpy as np # Importando numpy\n",
    "import pandas as pd # Importando Pandas\n",
    "import itertools\n",
    "#Vamos pegar alguns modulos agora\n",
    "from sklearn.model_selection import train_test_split\n",
    "from sklearn.feature_extraction.text import TfidfVectorizer\n",
    "from sklearn.linear_model import PassiveAggressiveClassifier\n",
    "from sklearn.metrics import accuracy_score, confusion_matrix\n",
    "\n",
    "\n"
   ]
  },
  {
   "cell_type": "code",
   "execution_count": 7,
   "metadata": {},
   "outputs": [
    {
     "data": {
      "text/plain": [
       "0    FAKE\n",
       "1    FAKE\n",
       "2    REAL\n",
       "3    FAKE\n",
       "4    REAL\n",
       "Name: label, dtype: object"
      ]
     },
     "execution_count": 7,
     "metadata": {},
     "output_type": "execute_result"
    }
   ],
   "source": [
    "# Após ser feitos os imports necessários, vamos ler o dataset\n",
    "\n",
    "#Read the data\n",
    "\n",
    "Data_set = pd.read_csv(\"C:\\\\Users\\\\Leonard\\\\Desktop\\\\Faculdade\\\\Projeto Integrador l\\\\Projeto Integrador - Detector de fakes news\\\\news.csv\")\n",
    "\n",
    "#Formando o corpo e a cabeça \n",
    "\n",
    "Data_set.shape\n",
    "Data_set.head()\n",
    "\n",
    "#Pegando as tabelas\n",
    "\n",
    "labels = Data_set.label\n",
    "labels.head()"
   ]
  },
  {
   "cell_type": "code",
   "execution_count": 8,
   "metadata": {},
   "outputs": [],
   "source": [
    "# Iremos separar o dataset entre conjuntos de treinamentos e conjuntos de teste.\n",
    "\n",
    "X_Train, X_Test, Y_Train, Y_Test = train_test_split(Data_set['text'], labels, test_size = 0.2, random_state = 7)\n",
    "\n",
    "# Vamos iniciar o TfidfVectorizer, que converta uma coleção de raw documents em uma matrix de TF-IDF\n",
    "\n",
    "tfidf_vectorizer = TfidfVectorizer(stop_words='english', max_df = 0.7)\n",
    "\n",
    "#Encaixa e treina o conjunto, transforma o conjuto de test\n",
    "Tfidf_Train = tfidf_vectorizer.fit_transform(X_Train)\n",
    "Tfidf_Test = tfidf_vectorizer.transform(X_Test)"
   ]
  },
  {
   "cell_type": "code",
   "execution_count": 11,
   "metadata": {},
   "outputs": [
    {
     "name": "stdout",
     "output_type": "stream",
     "text": [
      "Precisão: 92.74%\n"
     ]
    }
   ],
   "source": [
    "# Inicializando um Classificador Passivo Agressivo \n",
    "\n",
    "pac = PassiveAggressiveClassifier(max_iter = 50)\n",
    "pac.fit(Tfidf_Train, Y_Train)\n",
    "\n",
    "# Prevendo com base no conjunto de test e calculando a precisão de acerto\n",
    "\n",
    "Y_Pred = pac.predict(Tfidf_Test)\n",
    "score = accuracy_score(Y_Test, Y_Pred)\n",
    "print(f'Precisão: {round(score*100, 2)}%')\n"
   ]
  },
  {
   "cell_type": "code",
   "execution_count": 14,
   "metadata": {
    "scrolled": true
   },
   "outputs": [
    {
     "data": {
      "text/plain": [
       "array([[590,  48],\n",
       "       [ 44, 585]], dtype=int64)"
      ]
     },
     "execution_count": 14,
     "metadata": {},
     "output_type": "execute_result"
    }
   ],
   "source": [
    "# Após obter a precisão de 92,74% vamos imprimir o output da matrix de confusão, para ter um insight\n",
    "# mais claro do dataset.\n",
    "\n",
    "# Construindo a matrix de confusão\n",
    "\n",
    "confusion_matrix(Y_Test, Y_Pred, labels = ['FAKE', 'REAL'])\n"
   ]
  },
  {
   "cell_type": "code",
   "execution_count": null,
   "metadata": {},
   "outputs": [],
   "source": [
    "# Com esse modelo obtive 590 verdadeiros positivos, 585 verdadeiros negativos, \n",
    "# 44, falso positivo e 49 false negativos.\n",
    "\n",
    "#Implementamos um TfidfVectorizer, inicializamos um Classificador Passivo Agressivo e encaixamos nossos \n",
    "# nossos modelos e obtemos o resultado de 92,82% de precisão.\n",
    "\n",
    "\n"
   ]
  }
 ],
 "metadata": {
  "kernelspec": {
   "display_name": "Python 3",
   "language": "python",
   "name": "python3"
  },
  "language_info": {
   "codemirror_mode": {
    "name": "ipython",
    "version": 3
   },
   "file_extension": ".py",
   "mimetype": "text/x-python",
   "name": "python",
   "nbconvert_exporter": "python",
   "pygments_lexer": "ipython3",
   "version": "3.8.5"
  }
 },
 "nbformat": 4,
 "nbformat_minor": 4
}
